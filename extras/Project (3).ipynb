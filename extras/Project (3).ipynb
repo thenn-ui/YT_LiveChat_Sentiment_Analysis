{
 "cells": [
  {
   "cell_type": "code",
   "execution_count": 24,
   "metadata": {
    "application/vnd.databricks.v1+cell": {
     "cellMetadata": {
      "byteLimit": 2048000,
      "rowLimit": 10000
     },
     "inputWidgets": {},
     "nuid": "f3f69e00-7c72-478b-9f29-1b3dec42c1c1",
     "showTitle": false,
     "title": ""
    }
   },
   "outputs": [],
   "source": [
    "import pyspark\n",
    "from pyspark import SparkContext, SparkConf\n",
    "from pyspark.sql import SparkSession\n",
    "\n",
    "import numpy as np\n",
    "import pyspark.sql.functions as F\n",
    "from pyspark.sql.functions import col\n",
    "from pyspark.sql.types import StringType\n",
    "from pyspark.ml.feature import StringIndexer\n",
    "import tensorflow as tf\n",
    "from tensorflow.keras.models import Sequential\n",
    "from tensorflow.keras.preprocessing import sequence\n",
    "from pyspark.ml.feature import HashingTF, IDF, Tokenizer\n",
    "from pyspark.ml.feature import Tokenizer, StopWordsRemover\n",
    "from tensorflow.keras.layers import SimpleRNN, LSTM, GRU, Bidirectional, Dense, Embedding"
   ]
  },
  {
   "cell_type": "code",
   "execution_count": 4,
   "metadata": {},
   "outputs": [
    {
     "name": "stderr",
     "output_type": "stream",
     "text": [
      "24/08/03 19:40:54 WARN Utils: Your hostname, thenn-5570 resolves to a loopback address: 127.0.1.1; using 192.168.1.121 instead (on interface wlp3s0)\n",
      "24/08/03 19:40:54 WARN Utils: Set SPARK_LOCAL_IP if you need to bind to another address\n",
      "Setting default log level to \"WARN\".\n",
      "To adjust logging level use sc.setLogLevel(newLevel). For SparkR, use setLogLevel(newLevel).\n",
      "24/08/03 19:40:57 WARN NativeCodeLoader: Unable to load native-hadoop library for your platform... using builtin-java classes where applicable\n"
     ]
    }
   ],
   "source": [
    "conf = SparkConf()\n",
    "sc = SparkContext(conf=conf)\n",
    "spark = SparkSession(sc)\n"
   ]
  },
  {
   "cell_type": "code",
   "execution_count": 5,
   "metadata": {
    "application/vnd.databricks.v1+cell": {
     "cellMetadata": {
      "byteLimit": 2048000,
      "rowLimit": 10000
     },
     "inputWidgets": {},
     "nuid": "e55f8027-bf86-4246-be45-769266873785",
     "showTitle": false,
     "title": ""
    }
   },
   "outputs": [
    {
     "name": "stderr",
     "output_type": "stream",
     "text": [
      "24/08/03 19:42:38 WARN DAGScheduler: Broadcasting large task binary with size 1118.7 KiB\n",
      "24/08/03 19:42:44 WARN DAGScheduler: Broadcasting large task binary with size 1124.6 KiB\n",
      "                                                                                \r"
     ]
    }
   ],
   "source": [
    "# Reading the Data\n",
    "rtData = spark.read.option(\"header\",\"true\").option(\"inferSchema\",\"true\").csv(\"rt_reviews.csv\").toDF(\"label\",\"text\").select(\"text\",\"label\").limit(10000)\n",
    "\n",
    "# Modifying the Labels\n",
    "rtData = rtData.withColumn('label', F.when(col(\"label\") == \"fresh\", 1).otherwise(col(\"label\")))\n",
    "rtData = rtData.withColumn('label', F.when(col(\"label\") == \"rotten\", -1).otherwise(col(\"label\")))\n",
    "\n",
    "# Tokenization\n",
    "tokenizer = Tokenizer(inputCol=\"text\", outputCol=\"words\")\n",
    "rtWordsData = tokenizer.transform(rtData)\n",
    "\n",
    "# Remove stop words\n",
    "remover = StopWordsRemover(inputCol=\"words\", outputCol=\"filtered\")\n",
    "rtFilteredData = remover.transform(rtWordsData).select(\"label\", \"filtered\")\n",
    "rtFilteredData = spark.createDataFrame(rtFilteredData.rdd.map(lambda x: (x[0], [word for word in x[1] if len(word) > 0])).collect(), ['label','filtered'])\n",
    "\n",
    "# Run StringIndexer on all the words in the data\n",
    "allWords = spark.createDataFrame(rtFilteredData.select(\"filtered\").rdd.flatMap(lambda x: x[0]), StringType())\n",
    "indexer = StringIndexer(inputCol = \"value\", outputCol=\"categoryIndex\")\n",
    "indexed = indexer.fit(allWords).transform(allWords)\n",
    "\n",
    "# Create a dictionary with the word as key and the index as value\n",
    "index_dict = dict(indexed.distinct().rdd.map(lambda x: (x[\"value\"], x[\"categoryIndex\"])).collect())\n",
    "\n",
    "# Convert the columns with list of words to list of idexes, using the index_dict\n",
    "rtFinalData = spark.createDataFrame(rtFilteredData.rdd.map(lambda x: (x[0], x[1], [index_dict[word] for word in x[1] if len(word) > 0])).collect(), ['label','filtered', 'filteredIndex'])\n",
    "rtFinalData = rtFinalData.select(\"label\", \"filteredIndex\")"
   ]
  },
  {
   "cell_type": "code",
   "execution_count": 6,
   "metadata": {
    "application/vnd.databricks.v1+cell": {
     "cellMetadata": {
      "byteLimit": 2048000,
      "rowLimit": 10000
     },
     "inputWidgets": {},
     "nuid": "d87b66ce-fcda-49a5-a318-3268de3e9c5e",
     "showTitle": false,
     "title": ""
    }
   },
   "outputs": [],
   "source": [
    "# Split the data into training and testing sets\n",
    "(rtTrainingData, rtValidationData, rtTestingData) = rtFinalData.randomSplit([0.7, 0.1, 0.2], seed=1234)\n",
    "\n",
    "rt_train_label = rtTrainingData.select(\"label\")\n",
    "rt_train_data = rtTrainingData.select(\"filteredIndex\")\n",
    "\n",
    "rt_valid_label = rtValidationData.select(\"label\")\n",
    "rt_valid_data = rtValidationData.select(\"filteredIndex\")\n",
    "\n",
    "rt_test_label = rtTestingData.select(\"label\")\n",
    "rt_test_data = rtTestingData.select(\"filteredIndex\")"
   ]
  },
  {
   "cell_type": "code",
   "execution_count": 7,
   "metadata": {
    "application/vnd.databricks.v1+cell": {
     "cellMetadata": {
      "byteLimit": 2048000,
      "rowLimit": 10000
     },
     "inputWidgets": {},
     "nuid": "b9b1302e-45ff-43eb-a83f-92b189948617",
     "showTitle": false,
     "title": ""
    }
   },
   "outputs": [
    {
     "name": "stderr",
     "output_type": "stream",
     "text": [
      "                                                                                \r"
     ]
    }
   ],
   "source": [
    "# Convert the DataFrames to lists of arrays\n",
    "rt_train_data = rt_train_data.rdd.flatMap(lambda x: np.array(x)).collect()\n",
    "rt_train_label = np.array(rt_train_label.rdd.flatMap(lambda x: x).collect())\n",
    "\n",
    "rt_valid_data = rt_valid_data.rdd.flatMap(lambda x: np.array(x)).collect()\n",
    "rt_valid_label = np.array(rt_valid_label.rdd.flatMap(lambda x: x).collect())\n",
    "\n",
    "rt_test_data = rt_test_data.rdd.flatMap(lambda x: np.array(x)).collect()\n",
    "rt_test_label = np.array(rt_test_label.rdd.flatMap(lambda x: x).collect())"
   ]
  },
  {
   "cell_type": "code",
   "execution_count": 8,
   "metadata": {
    "application/vnd.databricks.v1+cell": {
     "cellMetadata": {
      "byteLimit": 2048000,
      "rowLimit": 10000
     },
     "inputWidgets": {},
     "nuid": "9e64ff3a-292b-4cf1-8f00-1b1a818f1ccb",
     "showTitle": false,
     "title": ""
    }
   },
   "outputs": [],
   "source": [
    "# Pad the data, so each column is of the same length\n",
    "rt_train_data = sequence.pad_sequences(rt_train_data, maxlen = 40)\n",
    "rt_valid_data = sequence.pad_sequences(rt_valid_data, maxlen = 40)\n",
    "rt_test_data = sequence.pad_sequences(rt_test_data, maxlen = 40)"
   ]
  },
  {
   "cell_type": "code",
   "execution_count": 11,
   "metadata": {
    "application/vnd.databricks.v1+cell": {
     "cellMetadata": {
      "byteLimit": 2048000,
      "rowLimit": 10000
     },
     "inputWidgets": {},
     "nuid": "0248bad2-108e-43d8-9acb-924ca926f081",
     "showTitle": false,
     "title": ""
    }
   },
   "outputs": [
    {
     "name": "stdout",
     "output_type": "stream",
     "text": [
      "Epoch 1/10\n",
      "\u001b[1m220/220\u001b[0m \u001b[32m━━━━━━━━━━━━━━━━━━━━\u001b[0m\u001b[37m\u001b[0m \u001b[1m29s\u001b[0m 84ms/step - accuracy: 0.0535 - loss: 0.3580 - val_accuracy: 0.0000e+00 - val_loss: 0.1486\n",
      "Epoch 2/10\n",
      "\u001b[1m220/220\u001b[0m \u001b[32m━━━━━━━━━━━━━━━━━━━━\u001b[0m\u001b[37m\u001b[0m \u001b[1m16s\u001b[0m 73ms/step - accuracy: 4.5551e-04 - loss: 0.0044 - val_accuracy: 0.0000e+00 - val_loss: 0.1363\n",
      "Epoch 3/10\n",
      "\u001b[1m220/220\u001b[0m \u001b[32m━━━━━━━━━━━━━━━━━━━━\u001b[0m\u001b[37m\u001b[0m \u001b[1m15s\u001b[0m 68ms/step - accuracy: 0.0123 - loss: -0.1182 - val_accuracy: 0.0051 - val_loss: 0.0656\n",
      "Epoch 4/10\n",
      "\u001b[1m220/220\u001b[0m \u001b[32m━━━━━━━━━━━━━━━━━━━━\u001b[0m\u001b[37m\u001b[0m \u001b[1m15s\u001b[0m 70ms/step - accuracy: 0.0871 - loss: -1.1464 - val_accuracy: 0.0213 - val_loss: -0.0536\n",
      "Epoch 5/10\n",
      "\u001b[1m220/220\u001b[0m \u001b[32m━━━━━━━━━━━━━━━━━━━━\u001b[0m\u001b[37m\u001b[0m \u001b[1m15s\u001b[0m 70ms/step - accuracy: 0.1925 - loss: -3.0635 - val_accuracy: 0.0711 - val_loss: -0.0814\n",
      "Epoch 6/10\n",
      "\u001b[1m220/220\u001b[0m \u001b[32m━━━━━━━━━━━━━━━━━━━━\u001b[0m\u001b[37m\u001b[0m \u001b[1m16s\u001b[0m 72ms/step - accuracy: 0.2898 - loss: -6.0063 - val_accuracy: 0.0863 - val_loss: -0.0323\n",
      "Epoch 7/10\n",
      "\u001b[1m220/220\u001b[0m \u001b[32m━━━━━━━━━━━━━━━━━━━━\u001b[0m\u001b[37m\u001b[0m \u001b[1m17s\u001b[0m 76ms/step - accuracy: 0.3235 - loss: -9.1468 - val_accuracy: 0.1056 - val_loss: 0.3574\n",
      "Epoch 8/10\n",
      "\u001b[1m220/220\u001b[0m \u001b[32m━━━━━━━━━━━━━━━━━━━━\u001b[0m\u001b[37m\u001b[0m \u001b[1m18s\u001b[0m 83ms/step - accuracy: 0.3428 - loss: -13.0911 - val_accuracy: 0.1421 - val_loss: 1.2812\n",
      "Epoch 9/10\n",
      "\u001b[1m220/220\u001b[0m \u001b[32m━━━━━━━━━━━━━━━━━━━━\u001b[0m\u001b[37m\u001b[0m \u001b[1m18s\u001b[0m 80ms/step - accuracy: 0.3893 - loss: -16.2008 - val_accuracy: 0.1523 - val_loss: 1.6917\n",
      "Epoch 10/10\n",
      "\u001b[1m220/220\u001b[0m \u001b[32m━━━━━━━━━━━━━━━━━━━━\u001b[0m\u001b[37m\u001b[0m \u001b[1m18s\u001b[0m 80ms/step - accuracy: 0.4022 - loss: -19.9306 - val_accuracy: 0.1492 - val_loss: 1.4107\n"
     ]
    }
   ],
   "source": [
    "rnn_model1 = Sequential()\n",
    "rnn_model1.add(Embedding(50000, 64))\n",
    "rnn_model1.add(SimpleRNN(units = 32, dropout = 0.2, recurrent_dropout = 0.2))\n",
    "rnn_model1.add(Dense(1, activation = 'sigmoid'))\n",
    "\n",
    "rnn_model1.compile(loss = 'binary_crossentropy', optimizer = 'rmsprop', metrics=['accuracy'])\n",
    "\n",
    "history_rnn1 = rnn_model1.fit(rt_train_data, rt_train_label.astype(int), batch_size = 32, epochs = 10, validation_data = (rt_valid_data, rt_valid_label.astype(int)))"
   ]
  },
  {
   "cell_type": "code",
   "execution_count": 15,
   "metadata": {
    "application/vnd.databricks.v1+cell": {
     "cellMetadata": {
      "byteLimit": 2048000,
      "rowLimit": 10000
     },
     "inputWidgets": {},
     "nuid": "f3ab5d7a-f5c7-4dae-8e82-1a8e1a0fb5f0",
     "showTitle": false,
     "title": ""
    }
   },
   "outputs": [
    {
     "data": {
      "text/plain": [
       "[-0.8564020395278931, 0.14098690450191498]"
      ]
     },
     "execution_count": 15,
     "metadata": {},
     "output_type": "execute_result"
    }
   ],
   "source": [
    "rnn_model1.evaluate(rt_test_data, rt_test_label.astype(int), verbose=0)"
   ]
  },
  {
   "cell_type": "code",
   "execution_count": 17,
   "metadata": {
    "application/vnd.databricks.v1+cell": {
     "cellMetadata": {
      "byteLimit": 2048000,
      "rowLimit": 10000
     },
     "inputWidgets": {},
     "nuid": "8c186f22-3e7a-443c-85bc-e3461853307d",
     "showTitle": false,
     "title": ""
    }
   },
   "outputs": [
    {
     "name": "stdout",
     "output_type": "stream",
     "text": [
      "Epoch 1/10\n",
      "\u001b[1m110/110\u001b[0m \u001b[32m━━━━━━━━━━━━━━━━━━━━\u001b[0m\u001b[37m\u001b[0m \u001b[1m27s\u001b[0m 140ms/step - accuracy: 0.0142 - loss: 0.1109 - val_accuracy: 0.0000e+00 - val_loss: 0.1721\n",
      "Epoch 2/10\n",
      "\u001b[1m110/110\u001b[0m \u001b[32m━━━━━━━━━━━━━━━━━━━━\u001b[0m\u001b[37m\u001b[0m \u001b[1m15s\u001b[0m 132ms/step - accuracy: 0.0419 - loss: -0.6192 - val_accuracy: 0.0284 - val_loss: 0.2305\n",
      "Epoch 3/10\n",
      "\u001b[1m110/110\u001b[0m \u001b[32m━━━━━━━━━━━━━━━━━━━━\u001b[0m\u001b[37m\u001b[0m \u001b[1m15s\u001b[0m 136ms/step - accuracy: 0.4360 - loss: -8.4634 - val_accuracy: 0.0985 - val_loss: 0.8879\n",
      "Epoch 4/10\n",
      "\u001b[1m110/110\u001b[0m \u001b[32m━━━━━━━━━━━━━━━━━━━━\u001b[0m\u001b[37m\u001b[0m \u001b[1m14s\u001b[0m 131ms/step - accuracy: 0.4792 - loss: -15.7845 - val_accuracy: 0.1442 - val_loss: 1.8224\n",
      "Epoch 5/10\n",
      "\u001b[1m110/110\u001b[0m \u001b[32m━━━━━━━━━━━━━━━━━━━━\u001b[0m\u001b[37m\u001b[0m \u001b[1m14s\u001b[0m 126ms/step - accuracy: 0.4939 - loss: -20.4512 - val_accuracy: 0.1706 - val_loss: 3.4088\n",
      "Epoch 6/10\n",
      "\u001b[1m110/110\u001b[0m \u001b[32m━━━━━━━━━━━━━━━━━━━━\u001b[0m\u001b[37m\u001b[0m \u001b[1m12s\u001b[0m 108ms/step - accuracy: 0.4955 - loss: -24.7023 - val_accuracy: 0.1706 - val_loss: 4.2484\n",
      "Epoch 7/10\n",
      "\u001b[1m110/110\u001b[0m \u001b[32m━━━━━━━━━━━━━━━━━━━━\u001b[0m\u001b[37m\u001b[0m \u001b[1m12s\u001b[0m 107ms/step - accuracy: 0.5140 - loss: -28.1181 - val_accuracy: 0.1888 - val_loss: 7.3455\n",
      "Epoch 8/10\n",
      "\u001b[1m110/110\u001b[0m \u001b[32m━━━━━━━━━━━━━━━━━━━━\u001b[0m\u001b[37m\u001b[0m \u001b[1m12s\u001b[0m 113ms/step - accuracy: 0.5037 - loss: -32.8034 - val_accuracy: 0.2183 - val_loss: 6.7096\n",
      "Epoch 9/10\n",
      "\u001b[1m110/110\u001b[0m \u001b[32m━━━━━━━━━━━━━━━━━━━━\u001b[0m\u001b[37m\u001b[0m \u001b[1m15s\u001b[0m 132ms/step - accuracy: 0.4981 - loss: -37.1965 - val_accuracy: 0.2000 - val_loss: 5.3213\n",
      "Epoch 10/10\n",
      "\u001b[1m110/110\u001b[0m \u001b[32m━━━━━━━━━━━━━━━━━━━━\u001b[0m\u001b[37m\u001b[0m \u001b[1m13s\u001b[0m 114ms/step - accuracy: 0.5145 - loss: -39.9055 - val_accuracy: 0.2487 - val_loss: 10.2579\n"
     ]
    }
   ],
   "source": [
    "rnn_model2 = Sequential(name=\"Simple_RNN\")\n",
    "rnn_model2.add(Embedding(50000, 64))\n",
    "rnn_model2.add(SimpleRNN(128, activation='tanh', return_sequences=True))\n",
    "rnn_model2.add(SimpleRNN(64, activation='tanh', return_sequences=False))\n",
    "rnn_model2.add(Dense(1, activation='sigmoid'))\n",
    "\n",
    "rnn_model2.compile(loss=\"binary_crossentropy\",optimizer='adam',metrics=['accuracy'])\n",
    "\n",
    "history_rnn2 = rnn_model2.fit(rt_train_data, rt_train_label.astype(int), batch_size=64, epochs=10, verbose=1, validation_data = (rt_valid_data, rt_valid_label.astype(int)))"
   ]
  },
  {
   "cell_type": "code",
   "execution_count": null,
   "metadata": {
    "application/vnd.databricks.v1+cell": {
     "cellMetadata": {
      "byteLimit": 2048000,
      "rowLimit": 10000
     },
     "inputWidgets": {},
     "nuid": "62e2f366-f394-4dae-accb-4d38f2056f7d",
     "showTitle": false,
     "title": ""
    }
   },
   "outputs": [
    {
     "data": {
      "text/plain": [
       "[8.237541198730469, 0.21802617609500885]"
      ]
     },
     "execution_count": 222,
     "metadata": {},
     "output_type": "execute_result"
    }
   ],
   "source": [
    "rnn_model2.evaluate(rt_test_data, rt_test_label.astype(int), verbose=0)"
   ]
  },
  {
   "cell_type": "code",
   "execution_count": 21,
   "metadata": {},
   "outputs": [],
   "source": [
    "rnn_model2.save(\"./model_checkpoint/rnn_model2.keras\")"
   ]
  },
  {
   "cell_type": "code",
   "execution_count": 25,
   "metadata": {},
   "outputs": [],
   "source": [
    "reconstructed_model = tf.keras.models.load_model(\"./model_checkpoint/rnn_model2.keras\")"
   ]
  },
  {
   "cell_type": "code",
   "execution_count": 26,
   "metadata": {},
   "outputs": [
    {
     "data": {
      "text/plain": [
       "[10.195833206176758, 0.22809667885303497]"
      ]
     },
     "execution_count": 26,
     "metadata": {},
     "output_type": "execute_result"
    }
   ],
   "source": [
    "reconstructed_model.evaluate(rt_test_data, rt_test_label.astype(int), verbose=0)"
   ]
  },
  {
   "cell_type": "code",
   "execution_count": 27,
   "metadata": {},
   "outputs": [
    {
     "name": "stdout",
     "output_type": "stream",
     "text": [
      "Epoch 1/10\n"
     ]
    },
    {
     "ename": "InvalidArgumentError",
     "evalue": "Graph execution error:\n\nDetected at node Simple_RNN_1/embedding_5_1/GatherV2 defined at (most recent call last):\n  File \"<frozen runpy>\", line 198, in _run_module_as_main\n\n  File \"<frozen runpy>\", line 88, in _run_code\n\n  File \"/home/thenn/anaconda3/envs/ytproject/lib/python3.12/site-packages/ipykernel_launcher.py\", line 18, in <module>\n\n  File \"/home/thenn/anaconda3/envs/ytproject/lib/python3.12/site-packages/traitlets/config/application.py\", line 1075, in launch_instance\n\n  File \"/home/thenn/anaconda3/envs/ytproject/lib/python3.12/site-packages/ipykernel/kernelapp.py\", line 739, in start\n\n  File \"/home/thenn/anaconda3/envs/ytproject/lib/python3.12/site-packages/tornado/platform/asyncio.py\", line 205, in start\n\n  File \"/home/thenn/anaconda3/envs/ytproject/lib/python3.12/asyncio/base_events.py\", line 641, in run_forever\n\n  File \"/home/thenn/anaconda3/envs/ytproject/lib/python3.12/asyncio/base_events.py\", line 1987, in _run_once\n\n  File \"/home/thenn/anaconda3/envs/ytproject/lib/python3.12/asyncio/events.py\", line 88, in _run\n\n  File \"/home/thenn/anaconda3/envs/ytproject/lib/python3.12/site-packages/ipykernel/kernelbase.py\", line 545, in dispatch_queue\n\n  File \"/home/thenn/anaconda3/envs/ytproject/lib/python3.12/site-packages/ipykernel/kernelbase.py\", line 534, in process_one\n\n  File \"/home/thenn/anaconda3/envs/ytproject/lib/python3.12/site-packages/ipykernel/kernelbase.py\", line 437, in dispatch_shell\n\n  File \"/home/thenn/anaconda3/envs/ytproject/lib/python3.12/site-packages/ipykernel/ipkernel.py\", line 362, in execute_request\n\n  File \"/home/thenn/anaconda3/envs/ytproject/lib/python3.12/site-packages/ipykernel/kernelbase.py\", line 778, in execute_request\n\n  File \"/home/thenn/anaconda3/envs/ytproject/lib/python3.12/site-packages/ipykernel/ipkernel.py\", line 449, in do_execute\n\n  File \"/home/thenn/anaconda3/envs/ytproject/lib/python3.12/site-packages/ipykernel/zmqshell.py\", line 549, in run_cell\n\n  File \"/home/thenn/anaconda3/envs/ytproject/lib/python3.12/site-packages/IPython/core/interactiveshell.py\", line 3075, in run_cell\n\n  File \"/home/thenn/anaconda3/envs/ytproject/lib/python3.12/site-packages/IPython/core/interactiveshell.py\", line 3130, in _run_cell\n\n  File \"/home/thenn/anaconda3/envs/ytproject/lib/python3.12/site-packages/IPython/core/async_helpers.py\", line 128, in _pseudo_sync_runner\n\n  File \"/home/thenn/anaconda3/envs/ytproject/lib/python3.12/site-packages/IPython/core/interactiveshell.py\", line 3334, in run_cell_async\n\n  File \"/home/thenn/anaconda3/envs/ytproject/lib/python3.12/site-packages/IPython/core/interactiveshell.py\", line 3517, in run_ast_nodes\n\n  File \"/home/thenn/anaconda3/envs/ytproject/lib/python3.12/site-packages/IPython/core/interactiveshell.py\", line 3577, in run_code\n\n  File \"/tmp/ipykernel_160203/1808241564.py\", line 9, in <module>\n\n  File \"/home/thenn/anaconda3/envs/ytproject/lib/python3.12/site-packages/keras/src/utils/traceback_utils.py\", line 117, in error_handler\n\n  File \"/home/thenn/anaconda3/envs/ytproject/lib/python3.12/site-packages/keras/src/backend/tensorflow/trainer.py\", line 318, in fit\n\n  File \"/home/thenn/anaconda3/envs/ytproject/lib/python3.12/site-packages/keras/src/backend/tensorflow/trainer.py\", line 121, in one_step_on_iterator\n\n  File \"/home/thenn/anaconda3/envs/ytproject/lib/python3.12/site-packages/keras/src/backend/tensorflow/trainer.py\", line 108, in one_step_on_data\n\n  File \"/home/thenn/anaconda3/envs/ytproject/lib/python3.12/site-packages/keras/src/backend/tensorflow/trainer.py\", line 51, in train_step\n\n  File \"/home/thenn/anaconda3/envs/ytproject/lib/python3.12/site-packages/keras/src/utils/traceback_utils.py\", line 117, in error_handler\n\n  File \"/home/thenn/anaconda3/envs/ytproject/lib/python3.12/site-packages/keras/src/layers/layer.py\", line 882, in __call__\n\n  File \"/home/thenn/anaconda3/envs/ytproject/lib/python3.12/site-packages/keras/src/utils/traceback_utils.py\", line 117, in error_handler\n\n  File \"/home/thenn/anaconda3/envs/ytproject/lib/python3.12/site-packages/keras/src/ops/operation.py\", line 46, in __call__\n\n  File \"/home/thenn/anaconda3/envs/ytproject/lib/python3.12/site-packages/keras/src/utils/traceback_utils.py\", line 156, in error_handler\n\n  File \"/home/thenn/anaconda3/envs/ytproject/lib/python3.12/site-packages/keras/src/models/sequential.py\", line 209, in call\n\n  File \"/home/thenn/anaconda3/envs/ytproject/lib/python3.12/site-packages/keras/src/models/functional.py\", line 175, in call\n\n  File \"/home/thenn/anaconda3/envs/ytproject/lib/python3.12/site-packages/keras/src/ops/function.py\", line 171, in _run_through_graph\n\n  File \"/home/thenn/anaconda3/envs/ytproject/lib/python3.12/site-packages/keras/src/models/functional.py\", line 556, in call\n\n  File \"/home/thenn/anaconda3/envs/ytproject/lib/python3.12/site-packages/keras/src/utils/traceback_utils.py\", line 117, in error_handler\n\n  File \"/home/thenn/anaconda3/envs/ytproject/lib/python3.12/site-packages/keras/src/layers/layer.py\", line 882, in __call__\n\n  File \"/home/thenn/anaconda3/envs/ytproject/lib/python3.12/site-packages/keras/src/utils/traceback_utils.py\", line 117, in error_handler\n\n  File \"/home/thenn/anaconda3/envs/ytproject/lib/python3.12/site-packages/keras/src/ops/operation.py\", line 46, in __call__\n\n  File \"/home/thenn/anaconda3/envs/ytproject/lib/python3.12/site-packages/keras/src/utils/traceback_utils.py\", line 156, in error_handler\n\n  File \"/home/thenn/anaconda3/envs/ytproject/lib/python3.12/site-packages/keras/src/layers/core/embedding.py\", line 140, in call\n\n  File \"/home/thenn/anaconda3/envs/ytproject/lib/python3.12/site-packages/keras/src/ops/numpy.py\", line 4875, in take\n\n  File \"/home/thenn/anaconda3/envs/ytproject/lib/python3.12/site-packages/keras/src/backend/tensorflow/numpy.py\", line 1951, in take\n\nindices[60,34] = 2002 is not in [0, 1000)\n\t [[{{node Simple_RNN_1/embedding_5_1/GatherV2}}]] [Op:__inference_one_step_on_iterator_66420]",
     "output_type": "error",
     "traceback": [
      "\u001b[0;31m---------------------------------------------------------------------------\u001b[0m",
      "\u001b[0;31mInvalidArgumentError\u001b[0m                      Traceback (most recent call last)",
      "Cell \u001b[0;32mIn[27], line 9\u001b[0m\n\u001b[1;32m      5\u001b[0m rnn_model3\u001b[38;5;241m.\u001b[39madd(Dense(\u001b[38;5;241m1\u001b[39m, activation\u001b[38;5;241m=\u001b[39m\u001b[38;5;124m'\u001b[39m\u001b[38;5;124msigmoid\u001b[39m\u001b[38;5;124m'\u001b[39m))\n\u001b[1;32m      7\u001b[0m rnn_model3\u001b[38;5;241m.\u001b[39mcompile(loss\u001b[38;5;241m=\u001b[39m\u001b[38;5;124m\"\u001b[39m\u001b[38;5;124mbinary_crossentropy\u001b[39m\u001b[38;5;124m\"\u001b[39m,optimizer\u001b[38;5;241m=\u001b[39m\u001b[38;5;124m'\u001b[39m\u001b[38;5;124madam\u001b[39m\u001b[38;5;124m'\u001b[39m,metrics\u001b[38;5;241m=\u001b[39m[\u001b[38;5;124m'\u001b[39m\u001b[38;5;124maccuracy\u001b[39m\u001b[38;5;124m'\u001b[39m])\n\u001b[0;32m----> 9\u001b[0m history_rnn3 \u001b[38;5;241m=\u001b[39m \u001b[43mrnn_model3\u001b[49m\u001b[38;5;241;43m.\u001b[39;49m\u001b[43mfit\u001b[49m\u001b[43m(\u001b[49m\u001b[43mrt_train_data\u001b[49m\u001b[43m,\u001b[49m\u001b[43m \u001b[49m\u001b[43mrt_train_label\u001b[49m\u001b[38;5;241;43m.\u001b[39;49m\u001b[43mastype\u001b[49m\u001b[43m(\u001b[49m\u001b[38;5;28;43mint\u001b[39;49m\u001b[43m)\u001b[49m\u001b[43m,\u001b[49m\u001b[43m \u001b[49m\u001b[43mbatch_size\u001b[49m\u001b[38;5;241;43m=\u001b[39;49m\u001b[38;5;241;43m64\u001b[39;49m\u001b[43m,\u001b[49m\u001b[43m \u001b[49m\u001b[43mepochs\u001b[49m\u001b[38;5;241;43m=\u001b[39;49m\u001b[38;5;241;43m10\u001b[39;49m\u001b[43m,\u001b[49m\u001b[43m \u001b[49m\u001b[43mverbose\u001b[49m\u001b[38;5;241;43m=\u001b[39;49m\u001b[38;5;241;43m1\u001b[39;49m\u001b[43m,\u001b[49m\u001b[43m \u001b[49m\u001b[43mvalidation_data\u001b[49m\u001b[43m \u001b[49m\u001b[38;5;241;43m=\u001b[39;49m\u001b[43m \u001b[49m\u001b[43m(\u001b[49m\u001b[43mrt_valid_data\u001b[49m\u001b[43m,\u001b[49m\u001b[43m \u001b[49m\u001b[43mrt_valid_label\u001b[49m\u001b[38;5;241;43m.\u001b[39;49m\u001b[43mastype\u001b[49m\u001b[43m(\u001b[49m\u001b[38;5;28;43mint\u001b[39;49m\u001b[43m)\u001b[49m\u001b[43m)\u001b[49m\u001b[43m)\u001b[49m\n",
      "File \u001b[0;32m~/anaconda3/envs/ytproject/lib/python3.12/site-packages/keras/src/utils/traceback_utils.py:122\u001b[0m, in \u001b[0;36mfilter_traceback.<locals>.error_handler\u001b[0;34m(*args, **kwargs)\u001b[0m\n\u001b[1;32m    119\u001b[0m     filtered_tb \u001b[38;5;241m=\u001b[39m _process_traceback_frames(e\u001b[38;5;241m.\u001b[39m__traceback__)\n\u001b[1;32m    120\u001b[0m     \u001b[38;5;66;03m# To get the full stack trace, call:\u001b[39;00m\n\u001b[1;32m    121\u001b[0m     \u001b[38;5;66;03m# `keras.config.disable_traceback_filtering()`\u001b[39;00m\n\u001b[0;32m--> 122\u001b[0m     \u001b[38;5;28;01mraise\u001b[39;00m e\u001b[38;5;241m.\u001b[39mwith_traceback(filtered_tb) \u001b[38;5;28;01mfrom\u001b[39;00m \u001b[38;5;28;01mNone\u001b[39;00m\n\u001b[1;32m    123\u001b[0m \u001b[38;5;28;01mfinally\u001b[39;00m:\n\u001b[1;32m    124\u001b[0m     \u001b[38;5;28;01mdel\u001b[39;00m filtered_tb\n",
      "File \u001b[0;32m~/anaconda3/envs/ytproject/lib/python3.12/site-packages/tensorflow/python/eager/execute.py:53\u001b[0m, in \u001b[0;36mquick_execute\u001b[0;34m(op_name, num_outputs, inputs, attrs, ctx, name)\u001b[0m\n\u001b[1;32m     51\u001b[0m \u001b[38;5;28;01mtry\u001b[39;00m:\n\u001b[1;32m     52\u001b[0m   ctx\u001b[38;5;241m.\u001b[39mensure_initialized()\n\u001b[0;32m---> 53\u001b[0m   tensors \u001b[38;5;241m=\u001b[39m pywrap_tfe\u001b[38;5;241m.\u001b[39mTFE_Py_Execute(ctx\u001b[38;5;241m.\u001b[39m_handle, device_name, op_name,\n\u001b[1;32m     54\u001b[0m                                       inputs, attrs, num_outputs)\n\u001b[1;32m     55\u001b[0m \u001b[38;5;28;01mexcept\u001b[39;00m core\u001b[38;5;241m.\u001b[39m_NotOkStatusException \u001b[38;5;28;01mas\u001b[39;00m e:\n\u001b[1;32m     56\u001b[0m   \u001b[38;5;28;01mif\u001b[39;00m name \u001b[38;5;129;01mis\u001b[39;00m \u001b[38;5;129;01mnot\u001b[39;00m \u001b[38;5;28;01mNone\u001b[39;00m:\n",
      "\u001b[0;31mInvalidArgumentError\u001b[0m: Graph execution error:\n\nDetected at node Simple_RNN_1/embedding_5_1/GatherV2 defined at (most recent call last):\n  File \"<frozen runpy>\", line 198, in _run_module_as_main\n\n  File \"<frozen runpy>\", line 88, in _run_code\n\n  File \"/home/thenn/anaconda3/envs/ytproject/lib/python3.12/site-packages/ipykernel_launcher.py\", line 18, in <module>\n\n  File \"/home/thenn/anaconda3/envs/ytproject/lib/python3.12/site-packages/traitlets/config/application.py\", line 1075, in launch_instance\n\n  File \"/home/thenn/anaconda3/envs/ytproject/lib/python3.12/site-packages/ipykernel/kernelapp.py\", line 739, in start\n\n  File \"/home/thenn/anaconda3/envs/ytproject/lib/python3.12/site-packages/tornado/platform/asyncio.py\", line 205, in start\n\n  File \"/home/thenn/anaconda3/envs/ytproject/lib/python3.12/asyncio/base_events.py\", line 641, in run_forever\n\n  File \"/home/thenn/anaconda3/envs/ytproject/lib/python3.12/asyncio/base_events.py\", line 1987, in _run_once\n\n  File \"/home/thenn/anaconda3/envs/ytproject/lib/python3.12/asyncio/events.py\", line 88, in _run\n\n  File \"/home/thenn/anaconda3/envs/ytproject/lib/python3.12/site-packages/ipykernel/kernelbase.py\", line 545, in dispatch_queue\n\n  File \"/home/thenn/anaconda3/envs/ytproject/lib/python3.12/site-packages/ipykernel/kernelbase.py\", line 534, in process_one\n\n  File \"/home/thenn/anaconda3/envs/ytproject/lib/python3.12/site-packages/ipykernel/kernelbase.py\", line 437, in dispatch_shell\n\n  File \"/home/thenn/anaconda3/envs/ytproject/lib/python3.12/site-packages/ipykernel/ipkernel.py\", line 362, in execute_request\n\n  File \"/home/thenn/anaconda3/envs/ytproject/lib/python3.12/site-packages/ipykernel/kernelbase.py\", line 778, in execute_request\n\n  File \"/home/thenn/anaconda3/envs/ytproject/lib/python3.12/site-packages/ipykernel/ipkernel.py\", line 449, in do_execute\n\n  File \"/home/thenn/anaconda3/envs/ytproject/lib/python3.12/site-packages/ipykernel/zmqshell.py\", line 549, in run_cell\n\n  File \"/home/thenn/anaconda3/envs/ytproject/lib/python3.12/site-packages/IPython/core/interactiveshell.py\", line 3075, in run_cell\n\n  File \"/home/thenn/anaconda3/envs/ytproject/lib/python3.12/site-packages/IPython/core/interactiveshell.py\", line 3130, in _run_cell\n\n  File \"/home/thenn/anaconda3/envs/ytproject/lib/python3.12/site-packages/IPython/core/async_helpers.py\", line 128, in _pseudo_sync_runner\n\n  File \"/home/thenn/anaconda3/envs/ytproject/lib/python3.12/site-packages/IPython/core/interactiveshell.py\", line 3334, in run_cell_async\n\n  File \"/home/thenn/anaconda3/envs/ytproject/lib/python3.12/site-packages/IPython/core/interactiveshell.py\", line 3517, in run_ast_nodes\n\n  File \"/home/thenn/anaconda3/envs/ytproject/lib/python3.12/site-packages/IPython/core/interactiveshell.py\", line 3577, in run_code\n\n  File \"/tmp/ipykernel_160203/1808241564.py\", line 9, in <module>\n\n  File \"/home/thenn/anaconda3/envs/ytproject/lib/python3.12/site-packages/keras/src/utils/traceback_utils.py\", line 117, in error_handler\n\n  File \"/home/thenn/anaconda3/envs/ytproject/lib/python3.12/site-packages/keras/src/backend/tensorflow/trainer.py\", line 318, in fit\n\n  File \"/home/thenn/anaconda3/envs/ytproject/lib/python3.12/site-packages/keras/src/backend/tensorflow/trainer.py\", line 121, in one_step_on_iterator\n\n  File \"/home/thenn/anaconda3/envs/ytproject/lib/python3.12/site-packages/keras/src/backend/tensorflow/trainer.py\", line 108, in one_step_on_data\n\n  File \"/home/thenn/anaconda3/envs/ytproject/lib/python3.12/site-packages/keras/src/backend/tensorflow/trainer.py\", line 51, in train_step\n\n  File \"/home/thenn/anaconda3/envs/ytproject/lib/python3.12/site-packages/keras/src/utils/traceback_utils.py\", line 117, in error_handler\n\n  File \"/home/thenn/anaconda3/envs/ytproject/lib/python3.12/site-packages/keras/src/layers/layer.py\", line 882, in __call__\n\n  File \"/home/thenn/anaconda3/envs/ytproject/lib/python3.12/site-packages/keras/src/utils/traceback_utils.py\", line 117, in error_handler\n\n  File \"/home/thenn/anaconda3/envs/ytproject/lib/python3.12/site-packages/keras/src/ops/operation.py\", line 46, in __call__\n\n  File \"/home/thenn/anaconda3/envs/ytproject/lib/python3.12/site-packages/keras/src/utils/traceback_utils.py\", line 156, in error_handler\n\n  File \"/home/thenn/anaconda3/envs/ytproject/lib/python3.12/site-packages/keras/src/models/sequential.py\", line 209, in call\n\n  File \"/home/thenn/anaconda3/envs/ytproject/lib/python3.12/site-packages/keras/src/models/functional.py\", line 175, in call\n\n  File \"/home/thenn/anaconda3/envs/ytproject/lib/python3.12/site-packages/keras/src/ops/function.py\", line 171, in _run_through_graph\n\n  File \"/home/thenn/anaconda3/envs/ytproject/lib/python3.12/site-packages/keras/src/models/functional.py\", line 556, in call\n\n  File \"/home/thenn/anaconda3/envs/ytproject/lib/python3.12/site-packages/keras/src/utils/traceback_utils.py\", line 117, in error_handler\n\n  File \"/home/thenn/anaconda3/envs/ytproject/lib/python3.12/site-packages/keras/src/layers/layer.py\", line 882, in __call__\n\n  File \"/home/thenn/anaconda3/envs/ytproject/lib/python3.12/site-packages/keras/src/utils/traceback_utils.py\", line 117, in error_handler\n\n  File \"/home/thenn/anaconda3/envs/ytproject/lib/python3.12/site-packages/keras/src/ops/operation.py\", line 46, in __call__\n\n  File \"/home/thenn/anaconda3/envs/ytproject/lib/python3.12/site-packages/keras/src/utils/traceback_utils.py\", line 156, in error_handler\n\n  File \"/home/thenn/anaconda3/envs/ytproject/lib/python3.12/site-packages/keras/src/layers/core/embedding.py\", line 140, in call\n\n  File \"/home/thenn/anaconda3/envs/ytproject/lib/python3.12/site-packages/keras/src/ops/numpy.py\", line 4875, in take\n\n  File \"/home/thenn/anaconda3/envs/ytproject/lib/python3.12/site-packages/keras/src/backend/tensorflow/numpy.py\", line 1951, in take\n\nindices[60,34] = 2002 is not in [0, 1000)\n\t [[{{node Simple_RNN_1/embedding_5_1/GatherV2}}]] [Op:__inference_one_step_on_iterator_66420]"
     ]
    }
   ],
   "source": [
    "rnn_model3 = Sequential(name=\"Simple_RNN\")\n",
    "rnn_model3.add(Embedding(1000, 64))\n",
    "rnn_model3.add(SimpleRNN(128, activation='tanh', return_sequences=True))\n",
    "rnn_model3.add(SimpleRNN(64, activation='tanh', return_sequences=False))\n",
    "rnn_model3.add(Dense(1, activation='sigmoid'))\n",
    "\n",
    "rnn_model3.compile(loss=\"binary_crossentropy\",optimizer='adam',metrics=['accuracy'])\n",
    "\n",
    "history_rnn3 = rnn_model3.fit(rt_train_data, rt_train_label.astype(int), batch_size=64, epochs=10, verbose=1, validation_data = (rt_valid_data, rt_valid_label.astype(int)))"
   ]
  },
  {
   "cell_type": "code",
   "execution_count": 28,
   "metadata": {},
   "outputs": [
    {
     "name": "stderr",
     "output_type": "stream",
     "text": [
      "WARNING:absl:Compiled the loaded model, but the compiled metrics have yet to be built. `model.compile_metrics` will be empty until you train or evaluate the model.\n"
     ]
    }
   ],
   "source": [
    "rnn_model4 = tf.keras.models.load_model(\"sentiment_analysis_model.h5\")"
   ]
  },
  {
   "cell_type": "code",
   "execution_count": 29,
   "metadata": {},
   "outputs": [
    {
     "name": "stderr",
     "output_type": "stream",
     "text": [
      "2024-08-04 10:20:26.624127: I tensorflow/core/framework/local_rendezvous.cc:404] Local rendezvous is aborting with status: INVALID_ARGUMENT: indices[29,36] = 6020 is not in [0, 5000)\n",
      "\t [[{{node sequential_2_1/embedding_2_1/GatherV2}}]]\n"
     ]
    },
    {
     "ename": "InvalidArgumentError",
     "evalue": "Graph execution error:\n\nDetected at node sequential_2_1/embedding_2_1/GatherV2 defined at (most recent call last):\n  File \"<frozen runpy>\", line 198, in _run_module_as_main\n\n  File \"<frozen runpy>\", line 88, in _run_code\n\n  File \"/home/thenn/anaconda3/envs/ytproject/lib/python3.12/site-packages/ipykernel_launcher.py\", line 18, in <module>\n\n  File \"/home/thenn/anaconda3/envs/ytproject/lib/python3.12/site-packages/traitlets/config/application.py\", line 1075, in launch_instance\n\n  File \"/home/thenn/anaconda3/envs/ytproject/lib/python3.12/site-packages/ipykernel/kernelapp.py\", line 739, in start\n\n  File \"/home/thenn/anaconda3/envs/ytproject/lib/python3.12/site-packages/tornado/platform/asyncio.py\", line 205, in start\n\n  File \"/home/thenn/anaconda3/envs/ytproject/lib/python3.12/asyncio/base_events.py\", line 641, in run_forever\n\n  File \"/home/thenn/anaconda3/envs/ytproject/lib/python3.12/asyncio/base_events.py\", line 1987, in _run_once\n\n  File \"/home/thenn/anaconda3/envs/ytproject/lib/python3.12/asyncio/events.py\", line 88, in _run\n\n  File \"/home/thenn/anaconda3/envs/ytproject/lib/python3.12/site-packages/ipykernel/kernelbase.py\", line 545, in dispatch_queue\n\n  File \"/home/thenn/anaconda3/envs/ytproject/lib/python3.12/site-packages/ipykernel/kernelbase.py\", line 534, in process_one\n\n  File \"/home/thenn/anaconda3/envs/ytproject/lib/python3.12/site-packages/ipykernel/kernelbase.py\", line 437, in dispatch_shell\n\n  File \"/home/thenn/anaconda3/envs/ytproject/lib/python3.12/site-packages/ipykernel/ipkernel.py\", line 362, in execute_request\n\n  File \"/home/thenn/anaconda3/envs/ytproject/lib/python3.12/site-packages/ipykernel/kernelbase.py\", line 778, in execute_request\n\n  File \"/home/thenn/anaconda3/envs/ytproject/lib/python3.12/site-packages/ipykernel/ipkernel.py\", line 449, in do_execute\n\n  File \"/home/thenn/anaconda3/envs/ytproject/lib/python3.12/site-packages/ipykernel/zmqshell.py\", line 549, in run_cell\n\n  File \"/home/thenn/anaconda3/envs/ytproject/lib/python3.12/site-packages/IPython/core/interactiveshell.py\", line 3075, in run_cell\n\n  File \"/home/thenn/anaconda3/envs/ytproject/lib/python3.12/site-packages/IPython/core/interactiveshell.py\", line 3130, in _run_cell\n\n  File \"/home/thenn/anaconda3/envs/ytproject/lib/python3.12/site-packages/IPython/core/async_helpers.py\", line 128, in _pseudo_sync_runner\n\n  File \"/home/thenn/anaconda3/envs/ytproject/lib/python3.12/site-packages/IPython/core/interactiveshell.py\", line 3334, in run_cell_async\n\n  File \"/home/thenn/anaconda3/envs/ytproject/lib/python3.12/site-packages/IPython/core/interactiveshell.py\", line 3517, in run_ast_nodes\n\n  File \"/home/thenn/anaconda3/envs/ytproject/lib/python3.12/site-packages/IPython/core/interactiveshell.py\", line 3577, in run_code\n\n  File \"/tmp/ipykernel_160203/4083094222.py\", line 1, in <module>\n\n  File \"/home/thenn/anaconda3/envs/ytproject/lib/python3.12/site-packages/keras/src/utils/traceback_utils.py\", line 117, in error_handler\n\n  File \"/home/thenn/anaconda3/envs/ytproject/lib/python3.12/site-packages/keras/src/backend/tensorflow/trainer.py\", line 429, in evaluate\n\n  File \"/home/thenn/anaconda3/envs/ytproject/lib/python3.12/site-packages/keras/src/backend/tensorflow/trainer.py\", line 165, in one_step_on_iterator\n\n  File \"/home/thenn/anaconda3/envs/ytproject/lib/python3.12/site-packages/keras/src/backend/tensorflow/trainer.py\", line 154, in one_step_on_data\n\n  File \"/home/thenn/anaconda3/envs/ytproject/lib/python3.12/site-packages/keras/src/backend/tensorflow/trainer.py\", line 82, in test_step\n\n  File \"/home/thenn/anaconda3/envs/ytproject/lib/python3.12/site-packages/keras/src/utils/traceback_utils.py\", line 117, in error_handler\n\n  File \"/home/thenn/anaconda3/envs/ytproject/lib/python3.12/site-packages/keras/src/layers/layer.py\", line 882, in __call__\n\n  File \"/home/thenn/anaconda3/envs/ytproject/lib/python3.12/site-packages/keras/src/utils/traceback_utils.py\", line 117, in error_handler\n\n  File \"/home/thenn/anaconda3/envs/ytproject/lib/python3.12/site-packages/keras/src/ops/operation.py\", line 46, in __call__\n\n  File \"/home/thenn/anaconda3/envs/ytproject/lib/python3.12/site-packages/keras/src/utils/traceback_utils.py\", line 156, in error_handler\n\n  File \"/home/thenn/anaconda3/envs/ytproject/lib/python3.12/site-packages/keras/src/models/sequential.py\", line 209, in call\n\n  File \"/home/thenn/anaconda3/envs/ytproject/lib/python3.12/site-packages/keras/src/models/functional.py\", line 175, in call\n\n  File \"/home/thenn/anaconda3/envs/ytproject/lib/python3.12/site-packages/keras/src/ops/function.py\", line 171, in _run_through_graph\n\n  File \"/home/thenn/anaconda3/envs/ytproject/lib/python3.12/site-packages/keras/src/models/functional.py\", line 556, in call\n\n  File \"/home/thenn/anaconda3/envs/ytproject/lib/python3.12/site-packages/keras/src/utils/traceback_utils.py\", line 117, in error_handler\n\n  File \"/home/thenn/anaconda3/envs/ytproject/lib/python3.12/site-packages/keras/src/layers/layer.py\", line 882, in __call__\n\n  File \"/home/thenn/anaconda3/envs/ytproject/lib/python3.12/site-packages/keras/src/utils/traceback_utils.py\", line 117, in error_handler\n\n  File \"/home/thenn/anaconda3/envs/ytproject/lib/python3.12/site-packages/keras/src/ops/operation.py\", line 46, in __call__\n\n  File \"/home/thenn/anaconda3/envs/ytproject/lib/python3.12/site-packages/keras/src/utils/traceback_utils.py\", line 156, in error_handler\n\n  File \"/home/thenn/anaconda3/envs/ytproject/lib/python3.12/site-packages/keras/src/layers/core/embedding.py\", line 140, in call\n\n  File \"/home/thenn/anaconda3/envs/ytproject/lib/python3.12/site-packages/keras/src/ops/numpy.py\", line 4875, in take\n\n  File \"/home/thenn/anaconda3/envs/ytproject/lib/python3.12/site-packages/keras/src/backend/tensorflow/numpy.py\", line 1951, in take\n\nindices[29,36] = 6020 is not in [0, 5000)\n\t [[{{node sequential_2_1/embedding_2_1/GatherV2}}]] [Op:__inference_one_step_on_iterator_67635]",
     "output_type": "error",
     "traceback": [
      "\u001b[0;31m---------------------------------------------------------------------------\u001b[0m",
      "\u001b[0;31mInvalidArgumentError\u001b[0m                      Traceback (most recent call last)",
      "Cell \u001b[0;32mIn[29], line 1\u001b[0m\n\u001b[0;32m----> 1\u001b[0m \u001b[43mrnn_model4\u001b[49m\u001b[38;5;241;43m.\u001b[39;49m\u001b[43mevaluate\u001b[49m\u001b[43m(\u001b[49m\u001b[43mrt_test_data\u001b[49m\u001b[43m,\u001b[49m\u001b[43m \u001b[49m\u001b[43mrt_test_label\u001b[49m\u001b[38;5;241;43m.\u001b[39;49m\u001b[43mastype\u001b[49m\u001b[43m(\u001b[49m\u001b[38;5;28;43mint\u001b[39;49m\u001b[43m)\u001b[49m\u001b[43m,\u001b[49m\u001b[43m \u001b[49m\u001b[43mverbose\u001b[49m\u001b[38;5;241;43m=\u001b[39;49m\u001b[38;5;241;43m0\u001b[39;49m\u001b[43m)\u001b[49m\n",
      "File \u001b[0;32m~/anaconda3/envs/ytproject/lib/python3.12/site-packages/keras/src/utils/traceback_utils.py:122\u001b[0m, in \u001b[0;36mfilter_traceback.<locals>.error_handler\u001b[0;34m(*args, **kwargs)\u001b[0m\n\u001b[1;32m    119\u001b[0m     filtered_tb \u001b[38;5;241m=\u001b[39m _process_traceback_frames(e\u001b[38;5;241m.\u001b[39m__traceback__)\n\u001b[1;32m    120\u001b[0m     \u001b[38;5;66;03m# To get the full stack trace, call:\u001b[39;00m\n\u001b[1;32m    121\u001b[0m     \u001b[38;5;66;03m# `keras.config.disable_traceback_filtering()`\u001b[39;00m\n\u001b[0;32m--> 122\u001b[0m     \u001b[38;5;28;01mraise\u001b[39;00m e\u001b[38;5;241m.\u001b[39mwith_traceback(filtered_tb) \u001b[38;5;28;01mfrom\u001b[39;00m \u001b[38;5;28;01mNone\u001b[39;00m\n\u001b[1;32m    123\u001b[0m \u001b[38;5;28;01mfinally\u001b[39;00m:\n\u001b[1;32m    124\u001b[0m     \u001b[38;5;28;01mdel\u001b[39;00m filtered_tb\n",
      "File \u001b[0;32m~/anaconda3/envs/ytproject/lib/python3.12/site-packages/tensorflow/python/eager/execute.py:53\u001b[0m, in \u001b[0;36mquick_execute\u001b[0;34m(op_name, num_outputs, inputs, attrs, ctx, name)\u001b[0m\n\u001b[1;32m     51\u001b[0m \u001b[38;5;28;01mtry\u001b[39;00m:\n\u001b[1;32m     52\u001b[0m   ctx\u001b[38;5;241m.\u001b[39mensure_initialized()\n\u001b[0;32m---> 53\u001b[0m   tensors \u001b[38;5;241m=\u001b[39m pywrap_tfe\u001b[38;5;241m.\u001b[39mTFE_Py_Execute(ctx\u001b[38;5;241m.\u001b[39m_handle, device_name, op_name,\n\u001b[1;32m     54\u001b[0m                                       inputs, attrs, num_outputs)\n\u001b[1;32m     55\u001b[0m \u001b[38;5;28;01mexcept\u001b[39;00m core\u001b[38;5;241m.\u001b[39m_NotOkStatusException \u001b[38;5;28;01mas\u001b[39;00m e:\n\u001b[1;32m     56\u001b[0m   \u001b[38;5;28;01mif\u001b[39;00m name \u001b[38;5;129;01mis\u001b[39;00m \u001b[38;5;129;01mnot\u001b[39;00m \u001b[38;5;28;01mNone\u001b[39;00m:\n",
      "\u001b[0;31mInvalidArgumentError\u001b[0m: Graph execution error:\n\nDetected at node sequential_2_1/embedding_2_1/GatherV2 defined at (most recent call last):\n  File \"<frozen runpy>\", line 198, in _run_module_as_main\n\n  File \"<frozen runpy>\", line 88, in _run_code\n\n  File \"/home/thenn/anaconda3/envs/ytproject/lib/python3.12/site-packages/ipykernel_launcher.py\", line 18, in <module>\n\n  File \"/home/thenn/anaconda3/envs/ytproject/lib/python3.12/site-packages/traitlets/config/application.py\", line 1075, in launch_instance\n\n  File \"/home/thenn/anaconda3/envs/ytproject/lib/python3.12/site-packages/ipykernel/kernelapp.py\", line 739, in start\n\n  File \"/home/thenn/anaconda3/envs/ytproject/lib/python3.12/site-packages/tornado/platform/asyncio.py\", line 205, in start\n\n  File \"/home/thenn/anaconda3/envs/ytproject/lib/python3.12/asyncio/base_events.py\", line 641, in run_forever\n\n  File \"/home/thenn/anaconda3/envs/ytproject/lib/python3.12/asyncio/base_events.py\", line 1987, in _run_once\n\n  File \"/home/thenn/anaconda3/envs/ytproject/lib/python3.12/asyncio/events.py\", line 88, in _run\n\n  File \"/home/thenn/anaconda3/envs/ytproject/lib/python3.12/site-packages/ipykernel/kernelbase.py\", line 545, in dispatch_queue\n\n  File \"/home/thenn/anaconda3/envs/ytproject/lib/python3.12/site-packages/ipykernel/kernelbase.py\", line 534, in process_one\n\n  File \"/home/thenn/anaconda3/envs/ytproject/lib/python3.12/site-packages/ipykernel/kernelbase.py\", line 437, in dispatch_shell\n\n  File \"/home/thenn/anaconda3/envs/ytproject/lib/python3.12/site-packages/ipykernel/ipkernel.py\", line 362, in execute_request\n\n  File \"/home/thenn/anaconda3/envs/ytproject/lib/python3.12/site-packages/ipykernel/kernelbase.py\", line 778, in execute_request\n\n  File \"/home/thenn/anaconda3/envs/ytproject/lib/python3.12/site-packages/ipykernel/ipkernel.py\", line 449, in do_execute\n\n  File \"/home/thenn/anaconda3/envs/ytproject/lib/python3.12/site-packages/ipykernel/zmqshell.py\", line 549, in run_cell\n\n  File \"/home/thenn/anaconda3/envs/ytproject/lib/python3.12/site-packages/IPython/core/interactiveshell.py\", line 3075, in run_cell\n\n  File \"/home/thenn/anaconda3/envs/ytproject/lib/python3.12/site-packages/IPython/core/interactiveshell.py\", line 3130, in _run_cell\n\n  File \"/home/thenn/anaconda3/envs/ytproject/lib/python3.12/site-packages/IPython/core/async_helpers.py\", line 128, in _pseudo_sync_runner\n\n  File \"/home/thenn/anaconda3/envs/ytproject/lib/python3.12/site-packages/IPython/core/interactiveshell.py\", line 3334, in run_cell_async\n\n  File \"/home/thenn/anaconda3/envs/ytproject/lib/python3.12/site-packages/IPython/core/interactiveshell.py\", line 3517, in run_ast_nodes\n\n  File \"/home/thenn/anaconda3/envs/ytproject/lib/python3.12/site-packages/IPython/core/interactiveshell.py\", line 3577, in run_code\n\n  File \"/tmp/ipykernel_160203/4083094222.py\", line 1, in <module>\n\n  File \"/home/thenn/anaconda3/envs/ytproject/lib/python3.12/site-packages/keras/src/utils/traceback_utils.py\", line 117, in error_handler\n\n  File \"/home/thenn/anaconda3/envs/ytproject/lib/python3.12/site-packages/keras/src/backend/tensorflow/trainer.py\", line 429, in evaluate\n\n  File \"/home/thenn/anaconda3/envs/ytproject/lib/python3.12/site-packages/keras/src/backend/tensorflow/trainer.py\", line 165, in one_step_on_iterator\n\n  File \"/home/thenn/anaconda3/envs/ytproject/lib/python3.12/site-packages/keras/src/backend/tensorflow/trainer.py\", line 154, in one_step_on_data\n\n  File \"/home/thenn/anaconda3/envs/ytproject/lib/python3.12/site-packages/keras/src/backend/tensorflow/trainer.py\", line 82, in test_step\n\n  File \"/home/thenn/anaconda3/envs/ytproject/lib/python3.12/site-packages/keras/src/utils/traceback_utils.py\", line 117, in error_handler\n\n  File \"/home/thenn/anaconda3/envs/ytproject/lib/python3.12/site-packages/keras/src/layers/layer.py\", line 882, in __call__\n\n  File \"/home/thenn/anaconda3/envs/ytproject/lib/python3.12/site-packages/keras/src/utils/traceback_utils.py\", line 117, in error_handler\n\n  File \"/home/thenn/anaconda3/envs/ytproject/lib/python3.12/site-packages/keras/src/ops/operation.py\", line 46, in __call__\n\n  File \"/home/thenn/anaconda3/envs/ytproject/lib/python3.12/site-packages/keras/src/utils/traceback_utils.py\", line 156, in error_handler\n\n  File \"/home/thenn/anaconda3/envs/ytproject/lib/python3.12/site-packages/keras/src/models/sequential.py\", line 209, in call\n\n  File \"/home/thenn/anaconda3/envs/ytproject/lib/python3.12/site-packages/keras/src/models/functional.py\", line 175, in call\n\n  File \"/home/thenn/anaconda3/envs/ytproject/lib/python3.12/site-packages/keras/src/ops/function.py\", line 171, in _run_through_graph\n\n  File \"/home/thenn/anaconda3/envs/ytproject/lib/python3.12/site-packages/keras/src/models/functional.py\", line 556, in call\n\n  File \"/home/thenn/anaconda3/envs/ytproject/lib/python3.12/site-packages/keras/src/utils/traceback_utils.py\", line 117, in error_handler\n\n  File \"/home/thenn/anaconda3/envs/ytproject/lib/python3.12/site-packages/keras/src/layers/layer.py\", line 882, in __call__\n\n  File \"/home/thenn/anaconda3/envs/ytproject/lib/python3.12/site-packages/keras/src/utils/traceback_utils.py\", line 117, in error_handler\n\n  File \"/home/thenn/anaconda3/envs/ytproject/lib/python3.12/site-packages/keras/src/ops/operation.py\", line 46, in __call__\n\n  File \"/home/thenn/anaconda3/envs/ytproject/lib/python3.12/site-packages/keras/src/utils/traceback_utils.py\", line 156, in error_handler\n\n  File \"/home/thenn/anaconda3/envs/ytproject/lib/python3.12/site-packages/keras/src/layers/core/embedding.py\", line 140, in call\n\n  File \"/home/thenn/anaconda3/envs/ytproject/lib/python3.12/site-packages/keras/src/ops/numpy.py\", line 4875, in take\n\n  File \"/home/thenn/anaconda3/envs/ytproject/lib/python3.12/site-packages/keras/src/backend/tensorflow/numpy.py\", line 1951, in take\n\nindices[29,36] = 6020 is not in [0, 5000)\n\t [[{{node sequential_2_1/embedding_2_1/GatherV2}}]] [Op:__inference_one_step_on_iterator_67635]"
     ]
    }
   ],
   "source": [
    "rnn_model4.evaluate(rt_test_data, rt_test_label.astype(int), verbose=0)"
   ]
  },
  {
   "cell_type": "code",
   "execution_count": null,
   "metadata": {},
   "outputs": [],
   "source": []
  }
 ],
 "metadata": {
  "application/vnd.databricks.v1+notebook": {
   "dashboards": [],
   "environmentMetadata": null,
   "language": "python",
   "notebookMetadata": {
    "pythonIndentUnit": 4
   },
   "notebookName": "Project",
   "widgets": {}
  },
  "kernelspec": {
   "display_name": "Python 3 (ipykernel)",
   "language": "python",
   "name": "python3"
  },
  "language_info": {
   "codemirror_mode": {
    "name": "ipython",
    "version": 3
   },
   "file_extension": ".py",
   "mimetype": "text/x-python",
   "name": "python",
   "nbconvert_exporter": "python",
   "pygments_lexer": "ipython3",
   "version": "3.12.4"
  }
 },
 "nbformat": 4,
 "nbformat_minor": 4
}
